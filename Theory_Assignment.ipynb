{
  "nbformat": 4,
  "nbformat_minor": 0,
  "metadata": {
    "colab": {
      "provenance": []
    },
    "kernelspec": {
      "name": "python3",
      "display_name": "Python 3"
    },
    "language_info": {
      "name": "python"
    }
  },
  "cells": [
    {
      "cell_type": "code",
      "execution_count": null,
      "metadata": {
        "id": "KCmSO22A-qzL"
      },
      "outputs": [],
      "source": []
    },
    {
      "cell_type": "markdown",
      "source": [
        "HF What is Object-Oriented Programming (OOP)\n",
        " - Object-Oriented Programming (OOP) is a programming paradigm that organizes code into objects, which contain data and methods for manipulating that data.\n",
        "\n",
        "\n",
        "\n"
      ],
      "metadata": {
        "id": "M9eHLySw-rc8"
      }
    },
    {
      "cell_type": "code",
      "source": [],
      "metadata": {
        "id": "q0o0vjPl-2V0"
      },
      "execution_count": null,
      "outputs": []
    },
    {
      "cell_type": "markdown",
      "source": [
        "What is a class in OOP?\n",
        " - A class in OOP is a blueprint or template for creating objects, defining their properties and behaviors."
      ],
      "metadata": {
        "id": "v4JLdonf_FbS"
      }
    },
    {
      "cell_type": "code",
      "source": [],
      "metadata": {
        "id": "8PJwa6dY_MJL"
      },
      "execution_count": null,
      "outputs": []
    },
    {
      "cell_type": "markdown",
      "source": [
        "What is an object in OOP?\n",
        " - An object in OOP is an instance of a class, containing specific data and methods that operate on that data."
      ],
      "metadata": {
        "id": "9Yl8eYim_PIp"
      }
    },
    {
      "cell_type": "code",
      "source": [],
      "metadata": {
        "id": "R8-TOANR_bdj"
      },
      "execution_count": null,
      "outputs": []
    },
    {
      "cell_type": "markdown",
      "source": [
        "What is the difference between abstraction and encapsulation?\n",
        " - Abstraction hides the complexity by showing only essential features, while encapsulation bundles data and methods, restricting direct access to some components."
      ],
      "metadata": {
        "id": "XEbWZhJ2_cGB"
      }
    },
    {
      "cell_type": "code",
      "source": [],
      "metadata": {
        "id": "UMCqbqWQ_o9L"
      },
      "execution_count": null,
      "outputs": []
    },
    {
      "cell_type": "markdown",
      "source": [
        "What are dunder methods in Python1\n",
        " - Special methods in Python, like __init__ and __str__, with double underscores, used to define behaviors of objects.\n",
        "\n"
      ],
      "metadata": {
        "id": "Q6Y8Ewm2_pyw"
      }
    },
    {
      "cell_type": "code",
      "source": [],
      "metadata": {
        "id": "RBuaGlW7Am3r"
      },
      "execution_count": null,
      "outputs": []
    },
    {
      "cell_type": "markdown",
      "source": [
        "Explain the concept of inheritance in OOPF\n",
        " - A mechanism where a new class derives properties and behaviors from an existing class.\n",
        "\n"
      ],
      "metadata": {
        "id": "FjRg8sn4An0Y"
      }
    },
    {
      "cell_type": "code",
      "source": [],
      "metadata": {
        "id": "Rkgdzh3YAukr"
      },
      "execution_count": null,
      "outputs": []
    },
    {
      "cell_type": "markdown",
      "source": [
        "What is polymorphism in OOP1\n",
        " - The ability for different objects to respond to the same method call in different ways.\n",
        "\n"
      ],
      "metadata": {
        "id": "yWlLpni0Awi4"
      }
    },
    {
      "cell_type": "code",
      "source": [],
      "metadata": {
        "id": "edMDk_KkA05U"
      },
      "execution_count": null,
      "outputs": []
    },
    {
      "cell_type": "markdown",
      "source": [
        "How is encapsulation achieved in Python1\n",
        " - Achieved by using private or protected variables and methods, restricting direct access from outside the class.\n",
        "\n"
      ],
      "metadata": {
        "id": "JXusoPjEBH8g"
      }
    },
    {
      "cell_type": "code",
      "source": [],
      "metadata": {
        "id": "tO28yg3EBMIr"
      },
      "execution_count": null,
      "outputs": []
    },
    {
      "cell_type": "markdown",
      "source": [
        "What is a constructor in Python1\n",
        " - A special method __init__ used to initialize objects when they are created.\n",
        "\n"
      ],
      "metadata": {
        "id": "wU7PHgbyBOMQ"
      }
    },
    {
      "cell_type": "code",
      "source": [],
      "metadata": {
        "id": "HR4JM9qlBR9r"
      },
      "execution_count": null,
      "outputs": []
    },
    {
      "cell_type": "markdown",
      "source": [
        " What are class and static methods in Python?\n",
        " - Class methods take the class as the first argument (cls), while static methods do not take any specific instance or class argument.\n",
        "\n"
      ],
      "metadata": {
        "id": "WpC2Fc4aBVvo"
      }
    },
    {
      "cell_type": "code",
      "source": [],
      "metadata": {
        "id": "x6DZBcc5BeZL"
      },
      "execution_count": null,
      "outputs": []
    },
    {
      "cell_type": "markdown",
      "source": [
        "What is method overloading in Python?\n",
        " - Python does not support traditional method overloading, but you can achieve similar behavior using default arguments.\n",
        "\n"
      ],
      "metadata": {
        "id": "BO1oviFMBgZb"
      }
    },
    {
      "cell_type": "code",
      "source": [],
      "metadata": {
        "id": "HG5-5_jnBloz"
      },
      "execution_count": null,
      "outputs": []
    },
    {
      "cell_type": "markdown",
      "source": [
        "What is method overriding in OOP?\n",
        " - Redefining a method in a subclass that was already defined in its superclass to change its behavior.\n",
        "\n"
      ],
      "metadata": {
        "id": "X3BiS6lBBotw"
      }
    },
    {
      "cell_type": "code",
      "source": [],
      "metadata": {
        "id": "6Zo7Y-ZOBxdr"
      },
      "execution_count": null,
      "outputs": []
    },
    {
      "cell_type": "markdown",
      "source": [
        "What is a property decorator in Python?\n",
        " - @property allows a method to be accessed like an attribute, encapsulating logic inside a getter.\n",
        "\n"
      ],
      "metadata": {
        "id": "knAlPE1IB06o"
      }
    },
    {
      "cell_type": "code",
      "source": [],
      "metadata": {
        "id": "MZ-ylNBlB8l7"
      },
      "execution_count": null,
      "outputs": []
    },
    {
      "cell_type": "markdown",
      "source": [
        "Why is polymorphism important in OOP?\n",
        " - It allows for flexibility and the ability to use a unified interface for different types of objects.\n",
        "\n"
      ],
      "metadata": {
        "id": "gOKzj7NyB_c4"
      }
    },
    {
      "cell_type": "code",
      "source": [],
      "metadata": {
        "id": "lJ2s1cppCFlT"
      },
      "execution_count": null,
      "outputs": []
    },
    {
      "cell_type": "markdown",
      "source": [
        "What is an abstract class in Python?\n",
        " - A class that cannot be instantiated and is meant to be subclassed, containing abstract methods that must be implemented by subclasses.\n",
        "\n"
      ],
      "metadata": {
        "id": "FTzHSnIyCHDw"
      }
    },
    {
      "cell_type": "code",
      "source": [],
      "metadata": {
        "id": "KzwgV0ZwCMvb"
      },
      "execution_count": null,
      "outputs": []
    },
    {
      "cell_type": "markdown",
      "source": [
        "What are the advantages of OOP?\n",
        " - Code reusability, scalability, maintainability, and clear structure through classes and objects.\n",
        "\n"
      ],
      "metadata": {
        "id": "54p2gxjiCPTI"
      }
    },
    {
      "cell_type": "code",
      "source": [],
      "metadata": {
        "id": "x2zFwNooCVcj"
      },
      "execution_count": null,
      "outputs": []
    },
    {
      "cell_type": "markdown",
      "source": [
        "What is the difference between a class variable and an instance variable?\n",
        " - Class variables are shared across all instances, while instance variables are unique to each object.\n",
        "\n"
      ],
      "metadata": {
        "id": "G81ldPa0CXho"
      }
    },
    {
      "cell_type": "code",
      "source": [],
      "metadata": {
        "id": "fu3MT4OTCfxc"
      },
      "execution_count": null,
      "outputs": []
    },
    {
      "cell_type": "markdown",
      "source": [
        "What is multiple inheritance in Python?\n",
        " - A class inherits from more than one class, combining their attributes and methods.\n",
        "\n"
      ],
      "metadata": {
        "id": "cXv-NTr6ChhI"
      }
    },
    {
      "cell_type": "code",
      "source": [],
      "metadata": {
        "id": "zmIwmIYQCoJz"
      },
      "execution_count": null,
      "outputs": []
    },
    {
      "cell_type": "markdown",
      "source": [
        "Explain the purpose of ‘’__str__’ and ‘__repr__’ ‘ methods in Python?\n",
        " - __str__ returns a user-friendly string representation, while __repr__ returns a developer-friendly, unambiguous representation of an object.\n",
        "\n"
      ],
      "metadata": {
        "id": "0UCif7ERCqMH"
      }
    },
    {
      "cell_type": "code",
      "source": [],
      "metadata": {
        "id": "N_7jkpLSCz0T"
      },
      "execution_count": null,
      "outputs": []
    },
    {
      "cell_type": "markdown",
      "source": [
        "What is the significance of the ‘super()’ function in Python?\n",
        " - It allows calling methods from a parent class, facilitating method overriding and multiple inheritance.\n",
        "\n"
      ],
      "metadata": {
        "id": "ikhUBqaTC2NA"
      }
    },
    {
      "cell_type": "code",
      "source": [],
      "metadata": {
        "id": "qZiSnrdYC8wT"
      },
      "execution_count": null,
      "outputs": []
    },
    {
      "cell_type": "markdown",
      "source": [
        "What is the significance of the __del__ method in Python?\n",
        " - It is called when an object is about to be destroyed, performing cleanup tasks.\n",
        "\n"
      ],
      "metadata": {
        "id": "A_C-pbuoC_IQ"
      }
    },
    {
      "cell_type": "code",
      "source": [],
      "metadata": {
        "id": "Tkgi5R67DGNL"
      },
      "execution_count": null,
      "outputs": []
    },
    {
      "cell_type": "markdown",
      "source": [
        "What is the difference between @staticmethod and @classmethod in Python?\n",
        " - @staticmethod doesn't take any reference to class or instance, while @classmethod takes the class as the first argument (cls).\n",
        "\n"
      ],
      "metadata": {
        "id": "z4OvGrDfDIKo"
      }
    },
    {
      "cell_type": "code",
      "source": [],
      "metadata": {
        "id": "FB_vt2yWDQpD"
      },
      "execution_count": null,
      "outputs": []
    },
    {
      "cell_type": "markdown",
      "source": [
        "How does polymorphism work in Python with inheritance?\n",
        " - Subclasses can define their own version of methods, and Python can call the appropriate method based on the object type.\n",
        "\n"
      ],
      "metadata": {
        "id": "mVL0OlaDDTOP"
      }
    },
    {
      "cell_type": "code",
      "source": [],
      "metadata": {
        "id": "-CAKHDBLDa3S"
      },
      "execution_count": null,
      "outputs": []
    },
    {
      "cell_type": "markdown",
      "source": [
        "What is method chaining in Python OOP?\n",
        " - Calling multiple methods in a single statement by returning self from each method.\n",
        "\n"
      ],
      "metadata": {
        "id": "Ik1VQpi0Dcv_"
      }
    },
    {
      "cell_type": "code",
      "source": [],
      "metadata": {
        "id": "Tw3UbnnGDjI6"
      },
      "execution_count": null,
      "outputs": []
    },
    {
      "cell_type": "markdown",
      "source": [
        "What is the purpose of the __call__ method in Python?\n",
        " - Allows an instance of a class to be called like a function, by defining the __call__ method.\n",
        "\n",
        "\n",
        "\n"
      ],
      "metadata": {
        "id": "Yncv9t--Dkw_"
      }
    },
    {
      "cell_type": "code",
      "source": [],
      "metadata": {
        "id": "KH2G2CDNDr8a"
      },
      "execution_count": null,
      "outputs": []
    }
  ]
}